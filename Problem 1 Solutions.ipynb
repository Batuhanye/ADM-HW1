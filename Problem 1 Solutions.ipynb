{
 "cells": [
  {
   "cell_type": "markdown",
   "metadata": {},
   "source": [
    "# HW-1 Problem 1"
   ]
  },
  {
   "cell_type": "markdown",
   "metadata": {},
   "source": [
    "# Introduction "
   ]
  },
  {
   "cell_type": "markdown",
   "metadata": {},
   "source": [
    "Solution for **Say \"Hello, World!\" With Python**"
   ]
  },
  {
   "cell_type": "code",
   "execution_count": null,
   "metadata": {},
   "outputs": [],
   "source": [
    "print(\"Hello, World!\")"
   ]
  },
  {
   "cell_type": "markdown",
   "metadata": {},
   "source": [
    "Solution for **Python If-Else**"
   ]
  },
  {
   "cell_type": "code",
   "execution_count": null,
   "metadata": {},
   "outputs": [],
   "source": [
    "n=int(input())#take the input,turns it into integer\n",
    "if n%2!=0:#if n is not even\n",
    "    print('Weird')\n",
    "else:#if n is even and \n",
    "    if n>=2 and n<=5: \n",
    "        print('Not Weird')\n",
    "    elif n>=6 and n<=20:\n",
    "        print('Weird')\n",
    "    elif n>20:\n",
    "        print('Not Weird')"
   ]
  },
  {
   "cell_type": "markdown",
   "metadata": {},
   "source": [
    "Solution for **Arithmetic Operators**"
   ]
  },
  {
   "cell_type": "code",
   "execution_count": null,
   "metadata": {},
   "outputs": [],
   "source": [
    "a = int(input())\n",
    "b = int(input())\n",
    "print(a+b)\n",
    "print(a-b)\n",
    "print(a*b)"
   ]
  },
  {
   "cell_type": "markdown",
   "metadata": {},
   "source": [
    "Solution for **Python: Division**"
   ]
  },
  {
   "cell_type": "code",
   "execution_count": null,
   "metadata": {},
   "outputs": [],
   "source": [
    "a = int(input())\n",
    "b = int(input())\n",
    "print(a//b)\n",
    "print(a/b)"
   ]
  },
  {
   "cell_type": "markdown",
   "metadata": {},
   "source": [
    "Solution for **Loops**"
   ]
  },
  {
   "cell_type": "code",
   "execution_count": null,
   "metadata": {},
   "outputs": [],
   "source": [
    "n = int(input())\n",
    "\n",
    "for i in range(n):#where i is from 0 to n, and each time increasing by 1\n",
    "    print(i**2)#print i^2"
   ]
  },
  {
   "cell_type": "markdown",
   "metadata": {},
   "source": [
    "Solution for **Write a function**"
   ]
  },
  {
   "cell_type": "code",
   "execution_count": null,
   "metadata": {},
   "outputs": [],
   "source": [
    "def is_leap(year):#the name of the fn is is_leap and gets the input year\n",
    "    if year%4 == 0:#if year can be divided by 4\n",
    "        if year%400 == 0:#and can be divided by 400\n",
    "            return True#print true\n",
    "        elif year%100 != 0:#if it can't be divided by 400 and cant be divided by 100 print true\n",
    "            return True\n",
    "        else: return False#if none of the above are true print false\n",
    "    else:\n",
    "        return False#if year can't be divided by 4 print false\n",
    "\n",
    "year = int(input())\n",
    "print(is_leap(year))"
   ]
  },
  {
   "cell_type": "markdown",
   "metadata": {},
   "source": [
    "Solution for **Print Function**"
   ]
  },
  {
   "cell_type": "code",
   "execution_count": null,
   "metadata": {},
   "outputs": [],
   "source": [
    "n = int(input())\n",
    "for i in range(1,n+1):#start printing from one, prints the last element aswell\n",
    "    print(i,end='')#outputs have no space between"
   ]
  },
  {
   "cell_type": "markdown",
   "metadata": {},
   "source": [
    "\n",
    "# Basic Data Types\n"
   ]
  },
  {
   "cell_type": "markdown",
   "metadata": {},
   "source": [
    "Solution for **List Comprehensions**"
   ]
  },
  {
   "cell_type": "code",
   "execution_count": null,
   "metadata": {},
   "outputs": [],
   "source": [
    "x = int(input())\n",
    "y = int(input())\n",
    "z = int(input())\n",
    "n = int(input())\n",
    "print([[i,j,k] for i in range(x+1) for j in range(y+1) for k in range(z+1) if ((i+j+k)!=n)])#prints a set where \n",
    "#each element has 3 indices,i,j and k: each one's range is up until the given numbers, \n",
    "#with the condition of sum of these three indices are not equal to given n"
   ]
  },
  {
   "cell_type": "markdown",
   "metadata": {},
   "source": [
    "Solution for **Find the Runner-Up Score!**"
   ]
  },
  {
   "cell_type": "code",
   "execution_count": null,
   "metadata": {},
   "outputs": [],
   "source": [
    "n = int(input())#gets the first input as integer\n",
    "arr = list(map(int, input().split())) # gets the following inputs,\n",
    "#splits them and turns them into integers to put them into a list called arr\n",
    "a=max(arr)#fixing the max value of the set\n",
    "for i in range(len(arr)):\n",
    "    if max(arr)==a:#as long as the max value of arr is equal to the fixed value\n",
    "        arr.remove(max(arr))#remove the max value\n",
    "print(max(arr)) #print the max value of arr afterwards\n",
    "#did that in for loop because there might be more than one max value of arr\n",
    "#i.e. [1,2,3,3] has 2 max values which are need to be removed "
   ]
  },
  {
   "cell_type": "markdown",
   "metadata": {},
   "source": [
    "Solution for **Finding the percentage**"
   ]
  },
  {
   "cell_type": "code",
   "execution_count": null,
   "metadata": {},
   "outputs": [],
   "source": [
    "n = int(input())\n",
    "student_marks = {}\n",
    "for i in range(n):\n",
    "    name, *line = input().split()\n",
    "    scores = list(map(float, line))\n",
    "    student_marks[name] = scores\n",
    "query_name = input()#up to this line the codes were given \n",
    "a=student_marks[query_name]#\n",
    "b=sum(a)/len(a)#dividing the score for average\n",
    "print(\"%.2f\" % result)#prints the result with 2 decimals"
   ]
  },
  {
   "cell_type": "markdown",
   "metadata": {},
   "source": [
    "Solution for **Lists**"
   ]
  },
  {
   "cell_type": "code",
   "execution_count": null,
   "metadata": {},
   "outputs": [],
   "source": [
    "a=int(input())\n",
    "b=[]#creates an empty list to append\n",
    "for i in range(a):\n",
    "    c=input().split()#gets the inputs after a, and splits\n",
    "    if c[0]=='append':#if the first element of splitted input is append\n",
    "        b.append(int(c[1]))#append the second element of input\n",
    "    if c[0]=='print':#if its print\n",
    "        print(b)#print he list\n",
    "    if c[0]=='insert':#if its insert\n",
    "        b.insert(int(c[1]),int(c[2]))#inserts c[2] at c[1]\n",
    "    if c[0]=='reverse':#if its reverse\n",
    "        b=b[::-1]#reverses the list\n",
    "    if c[0]=='pop':#if its pop\n",
    "        b.pop()#pops the last element\n",
    "    if c[0]=='sort':#if its sort\n",
    "        b=sorted(b)#sorts\n",
    "    if c[0]=='remove':#if its remove\n",
    "        b.remove(int(c[1]))#removes the second element from list"
   ]
  },
  {
   "cell_type": "markdown",
   "metadata": {},
   "source": [
    "Solution for **Tuples**"
   ]
  },
  {
   "cell_type": "code",
   "execution_count": null,
   "metadata": {},
   "outputs": [],
   "source": [
    "n=int(input())\n",
    "a=tuple(map(int, input().split()))#turns input into tuple with every element turned into integers\n",
    "a=hash(a)#uses hash function\n",
    "print(a)"
   ]
  },
  {
   "cell_type": "markdown",
   "metadata": {},
   "source": [
    "\n",
    "# Strings\n"
   ]
  },
  {
   "cell_type": "markdown",
   "metadata": {},
   "source": [
    "Solution for **sWAP cASE**"
   ]
  },
  {
   "cell_type": "code",
   "execution_count": null,
   "metadata": {},
   "outputs": [],
   "source": [
    "def swap_case(s):\n",
    "    a=str()#creating an empty string so that I can add the new items here\n",
    "    for i in s:\n",
    "        if i==i.upper():#if the given letter is uppercase\n",
    "            a+=i.lower()#make it lower and add to the string \n",
    "        else:#if its lowercase\n",
    "            a+=i.upper()#make it upper and add to the string\n",
    "    return a\n",
    "#codes after this line were given\n",
    "if __name__ == '__main__':\n",
    "    s = input()\n",
    "    result = swap_case(s)\n",
    "    print(result)"
   ]
  },
  {
   "cell_type": "markdown",
   "metadata": {},
   "source": [
    "Solution for **String Split and Join**"
   ]
  },
  {
   "cell_type": "code",
   "execution_count": null,
   "metadata": {},
   "outputs": [],
   "source": [
    "def split_and_join(line):\n",
    "    linenew=line.split(\" \")\n",
    "    linenewnew=\"-\".join(linenew)#.join() joins the strings \n",
    "#inside the parantheses with \"-\"\n",
    "    return linenewnew\n",
    "#codes after this were given    \n",
    "if __name__ == '__main__':\n",
    "    line = input()\n",
    "    result = split_and_join(line)\n",
    "    print(result)"
   ]
  },
  {
   "cell_type": "markdown",
   "metadata": {},
   "source": [
    "Solution for **What's Your Name?**"
   ]
  },
  {
   "cell_type": "code",
   "execution_count": null,
   "metadata": {},
   "outputs": [],
   "source": [
    "def print_full_name(a, b):#function gets the name and last name\n",
    "    print(\"Hello\",\" \",a,\" \",b,\"! You just delved into python.\",sep=\"\")#prints items joined with comma ,sep=\"\" separates the items\n",
    "#codes after this were given\n",
    "if __name__ == '__main__':\n",
    "    first_name = input()\n",
    "    last_name = input()\n",
    "    print_full_name(first_name, last_name)"
   ]
  },
  {
   "cell_type": "markdown",
   "metadata": {},
   "source": [
    "Solution for **Mutations**"
   ]
  },
  {
   "cell_type": "code",
   "execution_count": null,
   "metadata": {},
   "outputs": [],
   "source": [
    "a=list()\n",
    "def mutate_string(string, position, character):\n",
    "    a=string[:position]+character+string[position+1:]#changes the empty list:\n",
    "#gets the string up until the position and puts the character between then continues to get the string\n",
    "    return a\n",
    "#codes after this were given\n",
    "if __name__ == '__main__':\n",
    "    s = input()\n",
    "    i, c = input().split()\n",
    "    s_new = mutate_string(s, int(i), c)\n",
    "    print(s_new)"
   ]
  },
  {
   "cell_type": "markdown",
   "metadata": {},
   "source": [
    "Solution for **String Validators**"
   ]
  },
  {
   "cell_type": "code",
   "execution_count": null,
   "metadata": {},
   "outputs": [],
   "source": [
    "s=input()\n",
    "a=[False,False,False,False,False]#creating a default list where every output is \n",
    "functions=['isalnum','isalpha','isdigit','islower','isupper']#the list of possible functions\n",
    "for i in list(s):#for every character in s\n",
    "    for j in range(5):#check 5 functions\n",
    "        if not(a[j]):#if the function is false\n",
    "            f='\"'+ i + '\".' + functions[j]+ '()'#creating a string for function i.e. s[0].isdigit\n",
    "            if eval(f):#eval fn evaluates the string inside as it is a given command and if it is true\n",
    "                a[j]=True#turn the default element of the list a to true\n",
    "for i in a:\n",
    "    print(i)\n"
   ]
  },
  {
   "cell_type": "markdown",
   "metadata": {},
   "source": [
    "Solution for **Text Alignment**"
   ]
  },
  {
   "cell_type": "code",
   "execution_count": null,
   "metadata": {},
   "outputs": [],
   "source": [
    "#Replace all ______ with rjust, ljust or center. \n",
    "#I filled blanks with rjust,ljust or center \n",
    "thickness = int(input()) #This must be an odd number\n",
    "c = 'H'\n",
    "\n",
    "#Top Cone\n",
    "for i in range(thickness):\n",
    "    print((c*i).rjust(thickness-1)+c+(c*i).ljust(thickness-1))\n",
    "\n",
    "#Top Pillars\n",
    "for i in range(thickness+1):\n",
    "    print((c*thickness).center(thickness*2)+(c*thickness).center(thickness*6))\n",
    "\n",
    "#Middle Belt\n",
    "for i in range((thickness+1)//2):\n",
    "    print((c*thickness*5).center(thickness*6))    \n",
    "\n",
    "#Bottom Pillars\n",
    "for i in range(thickness+1):\n",
    "    print((c*thickness).center(thickness*2)+(c*thickness).center(thickness*6))    \n",
    "\n",
    "#Bottom Cone\n",
    "for i in range(thickness):\n",
    "    print(((c*(thickness-i-1)).rjust(thickness)+c+(c*(thickness-i-1)).ljust(thickness)).rjust(thickness*6))"
   ]
  },
  {
   "cell_type": "markdown",
   "metadata": {},
   "source": [
    "Solution for **Text Wrap**"
   ]
  },
  {
   "cell_type": "code",
   "execution_count": null,
   "metadata": {},
   "outputs": [],
   "source": [
    "import textwrap # imports the textwrap\n",
    "\n",
    "def wrap(string, max_width):#was given\n",
    "    string=textwrap.fill(string,max_width)#wraps the string, turns into elements with each having max length of max_width\n",
    "    return string#was given\n",
    "#codes after this were given\n",
    "if __name__ == '__main__':\n",
    "    string, max_width = input(), int(input())\n",
    "    result = wrap(string, max_width)\n",
    "    print(result)"
   ]
  },
  {
   "cell_type": "markdown",
   "metadata": {},
   "source": [
    "Solution for **Capitalize!**"
   ]
  },
  {
   "cell_type": "code",
   "execution_count": null,
   "metadata": {},
   "outputs": [],
   "source": [
    "#!/bin/python3\n",
    "\n",
    "import math\n",
    "import os\n",
    "import random\n",
    "import re\n",
    "import sys\n",
    "def solve(s):#up to this line,codes were given\n",
    "    for i in s.split():\n",
    "        s=s.replace(i,i.capitalize())#replaces every word of the list with first letter capitalized words\n",
    "    return(s)\n",
    "#codes below were given\n",
    "if __name__ == '__main__':\n",
    "    fptr = open(os.environ['OUTPUT_PATH'], 'w')\n",
    "\n",
    "    s = input()\n",
    "\n",
    "    result = solve(s)\n",
    "\n",
    "    fptr.write(result + '\\n')\n",
    "\n",
    "    fptr.close()"
   ]
  },
  {
   "cell_type": "markdown",
   "metadata": {},
   "source": [
    "\n",
    "# Sets\n"
   ]
  },
  {
   "cell_type": "markdown",
   "metadata": {},
   "source": [
    "Solution for **Introduction to Sets**"
   ]
  },
  {
   "cell_type": "code",
   "execution_count": null,
   "metadata": {},
   "outputs": [],
   "source": [
    "def average(array):\n",
    "    N=len(set(array))#creates a set from the given array and gets its length N\n",
    "    a=(sum((set(array)))/N)#sums every element of the set and divides it by N\n",
    "    return(a)\n",
    "#codes below were given\n",
    "if __name__ == '__main__':\n",
    "    n = int(input())\n",
    "    arr = list(map(int, input().split()))\n",
    "    result = average(arr)\n",
    "    print(result)"
   ]
  },
  {
   "cell_type": "markdown",
   "metadata": {},
   "source": [
    "Solution for **Symmetric Difference**"
   ]
  },
  {
   "cell_type": "code",
   "execution_count": null,
   "metadata": {},
   "outputs": [],
   "source": [
    "# Enter your code here. Read input from STDIN. Print output to STDOUT\n",
    "Mnumber=input()\n",
    "M=input()\n",
    "Nnumber=input()\n",
    "N=input()\n",
    "M=set(M.split())\n",
    "N=set(N.split())\n",
    "a=N.difference(M)#I have checked this property from the above, it gets the different elements of N from M\n",
    "b=M.difference(N)\n",
    "c=a.union(b)\n",
    "d=sorted(c,key=int) #sorts the set according to the integer rule,since we might have two decimals of input\n",
    "for i in d:\n",
    "    print(i,sep=\"\")\n",
    "#I got help from the website: I have explained the parts that I peeked"
   ]
  },
  {
   "cell_type": "markdown",
   "metadata": {},
   "source": [
    "Solution for **Set .add()**"
   ]
  },
  {
   "cell_type": "code",
   "execution_count": null,
   "metadata": {},
   "outputs": [],
   "source": [
    "a=int(input())\n",
    "b = set()#creates an empty set\n",
    "for i in range(a):\n",
    "    b.add(input())#its adding the input to the set right away\n",
    "print (len(b))#prints the length of the set b"
   ]
  },
  {
   "cell_type": "markdown",
   "metadata": {},
   "source": [
    "Solution for **Set .discard(), .remove() & .pop()**"
   ]
  },
  {
   "cell_type": "code",
   "execution_count": null,
   "metadata": {},
   "outputs": [],
   "source": [
    "a=int(input())\n",
    "y=set(map(int,input().split()))\n",
    "b=int(input())\n",
    "for i in range(b):\n",
    "    x=input().split()\n",
    "    if x[0]=='pop':\n",
    "        y.pop()\n",
    "    elif x[0]=='remove':\n",
    "        y.remove(int(x[1]))#removes the element from the set\n",
    "    elif x[0]=='discard':\n",
    "        y.discard(int(x[1]))#removes the element from the set\n",
    "print(sum(y))"
   ]
  },
  {
   "cell_type": "markdown",
   "metadata": {},
   "source": [
    "Solution for **Set .union() Operation**"
   ]
  },
  {
   "cell_type": "code",
   "execution_count": null,
   "metadata": {},
   "outputs": [],
   "source": [
    "Mnumber=input()\n",
    "M=set(input().split())\n",
    "Nnumber=input()\n",
    "N=set(input().split())\n",
    "a=N.difference(M)\n",
    "c=M.union(a)#returns the union of two sets, here they are a and M\n",
    "print(len(c))"
   ]
  },
  {
   "cell_type": "markdown",
   "metadata": {},
   "source": [
    "Solution for **Set .intersection() Operation**"
   ]
  },
  {
   "cell_type": "code",
   "execution_count": null,
   "metadata": {},
   "outputs": [],
   "source": [
    "Mnumber=input()\n",
    "M=set(input().split())\n",
    "Nnumber=input()\n",
    "N=set(input().split())\n",
    "a=N.intersection(M)#returns the intersect of two sets\n",
    "b=M.intersection(N)\n",
    "c=a.union(b)\n",
    "print(len(c))"
   ]
  },
  {
   "cell_type": "markdown",
   "metadata": {},
   "source": [
    "Solution for **Set .difference() Operation**"
   ]
  },
  {
   "cell_type": "code",
   "execution_count": null,
   "metadata": {},
   "outputs": [],
   "source": [
    "Mnumber=input()\n",
    "M=set(input().split())\n",
    "Nnumber=input()\n",
    "N=set(input().split())\n",
    "a=M.difference(N)\n",
    "print(len(a))"
   ]
  },
  {
   "cell_type": "markdown",
   "metadata": {},
   "source": [
    "Solution for **Set .symmetric_difference() Operation**"
   ]
  },
  {
   "cell_type": "code",
   "execution_count": null,
   "metadata": {},
   "outputs": [],
   "source": [
    "Mnumber=input()\n",
    "M=set(input().split())\n",
    "Nnumber=input()\n",
    "N=set(input().split())\n",
    "a=N.symmetric_difference(M)#returns the symmetric difference of sets,namely (A union B)-(A intersect B)\n",
    "print(len(a))"
   ]
  },
  {
   "cell_type": "markdown",
   "metadata": {},
   "source": [
    "\n",
    "# Collections\n"
   ]
  },
  {
   "cell_type": "markdown",
   "metadata": {},
   "source": [
    "Solution for **Collections.deque()**"
   ]
  },
  {
   "cell_type": "code",
   "execution_count": null,
   "metadata": {},
   "outputs": [],
   "source": [
    "from collections import deque\n",
    "d = deque()#creates a queue\n",
    "a=int(input())\n",
    "for i in range(a):\n",
    "    s = input().split()#for every input, it splits and reads every element\n",
    "    if s[0] == 'append':#if the first element is append\n",
    "        d.append(s[1])#do the command\n",
    "    elif s[0] == 'appendleft':#if the first element is appendLeft\n",
    "        d.appendleft(s[1])#do the command\n",
    "    elif s[0] == 'pop':#if the first element is pop\n",
    "        d.pop()\n",
    "    else:\n",
    "        d.popleft()\n",
    "for i in d:\n",
    "    print(i,end=\" \")\n",
    "\n",
    "#I checked for this solution, I explained the parts that I peeked"
   ]
  },
  {
   "cell_type": "markdown",
   "metadata": {},
   "source": [
    "\n",
    "# Date and Time\n"
   ]
  },
  {
   "cell_type": "markdown",
   "metadata": {},
   "source": [
    "Solution for **Calendar Module**"
   ]
  },
  {
   "cell_type": "code",
   "execution_count": null,
   "metadata": {},
   "outputs": [],
   "source": [
    "import calendar\n",
    "year=input().split()#gets the input splitted\n",
    "month=int(year[0])#assigning first entry to month,second to day and third to year\n",
    "day=int(year[1])\n",
    "year=int(year[2])\n",
    "c=calendar.weekday(year,month,day)#weekday()gets the day as number, from monday=0 to sunday=6\n",
    "weekdays=[\"MONDAY\",\"TUESDAY\",\"WEDNESDAY\",\"THURSDAY\",\"FRIDAY\",\"SATURDAY\",\"SUNDAY\"]\n",
    "print(weekdays[c])"
   ]
  },
  {
   "cell_type": "markdown",
   "metadata": {},
   "source": [
    "\n",
    "# Exceptions\n"
   ]
  },
  {
   "cell_type": "markdown",
   "metadata": {},
   "source": [
    "Solution for **Exceptions**"
   ]
  },
  {
   "cell_type": "code",
   "execution_count": null,
   "metadata": {},
   "outputs": [],
   "source": [
    "T=int(input())\n",
    "for i in range(T):\n",
    "    try:\n",
    "        a,b=map(int,input().split())#gets two inputs and splits as a and b\n",
    "        print(int(a/b))\n",
    "    except ZeroDivisionError:#excepts are errors, by putting them into code, python lets us run the code still, with exception\n",
    "        print(\"Error Code: integer division or modulo by zero\")#I wrote the exact required output since my code had some different output\n",
    "    except ValueError as y:\n",
    "        print(\"Error Code:\",y)"
   ]
  },
  {
   "cell_type": "markdown",
   "metadata": {},
   "source": [
    "\n",
    "# Built-Ins\n"
   ]
  },
  {
   "cell_type": "markdown",
   "metadata": {},
   "source": [
    "Solution for **Zipped!**"
   ]
  },
  {
   "cell_type": "code",
   "execution_count": null,
   "metadata": {},
   "outputs": [],
   "source": [
    "N,X=map(int, input().split()) \n",
    "students=[]\n",
    "for i in range(X):\n",
    "    students.append(map(float,input().split()))\n",
    "for i in zip(*students): #this loop sums up every element of zipped students and divides them to the number of subjects\n",
    "  print(sum(i)/X)\n",
    "#I checked the solution for this one,explained the parts that I peeked"
   ]
  },
  {
   "cell_type": "markdown",
   "metadata": {},
   "source": [
    "\n",
    "# Python Functionals\n"
   ]
  },
  {
   "cell_type": "markdown",
   "metadata": {},
   "source": [
    "Solution for **Map and Lambda Function**"
   ]
  },
  {
   "cell_type": "code",
   "execution_count": null,
   "metadata": {},
   "outputs": [],
   "source": [
    "cube = lambda x: x**3#this was given\n",
    "\n",
    "def fibonacci(n):#these numbers go up by the summation of previous two numbers\n",
    "    if n==1:#special case where n is 1\n",
    "        a=[0]\n",
    "    elif n==0:#special case where n is 0\n",
    "        a=[]\n",
    "    else:\n",
    "        a=[0,1]#the first two numbers are these\n",
    "        for i in range(2,n):#since I directly set first two numbers range starts from two\n",
    "            a.append(a[i-1]+a[i-2])#appends the numbers which are sum of prev. two numbers\n",
    "    return(a)\n",
    "#codes below were given\n",
    "if __name__ == '__main__':\n",
    "    n = int(input())\n",
    "    print(list(map(cube, fibonacci(n))))"
   ]
  },
  {
   "cell_type": "markdown",
   "metadata": {},
   "source": [
    "\n",
    "# Regex and Parsing \n"
   ]
  },
  {
   "cell_type": "markdown",
   "metadata": {},
   "source": [
    "Solution for **Detect Floating Point Number**"
   ]
  },
  {
   "cell_type": "code",
   "execution_count": null,
   "metadata": {},
   "outputs": [],
   "source": [
    "import re\n",
    "n = int(input())\n",
    "for i in range(n):\n",
    "    print(bool(re.search(r\"^[+-]?[0-9]*\\.[0-9]+$\",input())))#the string inside \"\" is called regex or regular expression, turns out very common in coding\n",
    "#I checked the solution to check what to put inside search fn"
   ]
  },
  {
   "cell_type": "markdown",
   "metadata": {},
   "source": [
    "Solution for **Re.split()**"
   ]
  },
  {
   "cell_type": "code",
   "execution_count": null,
   "metadata": {},
   "outputs": [],
   "source": [
    "regex_pattern = r\"[.,]\"\t# means search every . and ,\n",
    "\n",
    "import re\n",
    "print(\"\\n\".join(re.split(regex_pattern, input())))"
   ]
  },
  {
   "cell_type": "markdown",
   "metadata": {},
   "source": [
    "\n",
    "# Numpy\n"
   ]
  },
  {
   "cell_type": "markdown",
   "metadata": {},
   "source": [
    "Solution for **Arrays**"
   ]
  },
  {
   "cell_type": "code",
   "execution_count": null,
   "metadata": {},
   "outputs": [],
   "source": [
    "import numpy\n",
    "\n",
    "def arrays(arr):\n",
    "    a=numpy.array(arr[::-1],float) #arr[::-1] here gets the array from start to end, and step=1 meaning it will get it backwards, if it were -2 it would skip 1 element,still counting backwards\n",
    "    return a\n",
    "arr = input().strip().split(' ')\n",
    "result = arrays(arr)\n",
    "print(result)"
   ]
  },
  {
   "cell_type": "markdown",
   "metadata": {},
   "source": [
    "Solution for **Shape and Reshape**"
   ]
  },
  {
   "cell_type": "code",
   "execution_count": null,
   "metadata": {},
   "outputs": [],
   "source": [
    "import numpy \n",
    "a=input().split()\n",
    "b=numpy.array(a,int)#turning splitted input into integers\n",
    "c=numpy.reshape(b,(3,3)) #reshaping to 3,3 \n",
    "print(c)"
   ]
  },
  {
   "cell_type": "markdown",
   "metadata": {},
   "source": [
    "Solution for **Transpose and Flatten**"
   ]
  },
  {
   "cell_type": "code",
   "execution_count": null,
   "metadata": {},
   "outputs": [],
   "source": [
    "import numpy\n",
    "N,M=map(int,input().split()) #gets the size\n",
    "a=[]\n",
    "for i in range(N):#gets input of N, splits them and then appends each to a list\n",
    "    a.append(input().split())\n",
    "b=numpy.array(a,int)#turns list into array with integers\n",
    "c=numpy.transpose(b)\n",
    "d=b.flatten()\n",
    "print(c)\n",
    "print(d)"
   ]
  },
  {
   "cell_type": "markdown",
   "metadata": {},
   "source": [
    "Solution for **Concatenate**"
   ]
  },
  {
   "cell_type": "code",
   "execution_count": null,
   "metadata": {},
   "outputs": [],
   "source": [
    "import numpy\n",
    "N,M,P=map(int,input().split())\n",
    "a=numpy.array([input().split() for i in range(N)],int)#creates as list for input N,splits every element and puts them in it\n",
    "#then creates an array from that list with turning every element to integer\n",
    "b=numpy.array([input().split() for i in range(M)],int)#same thing for M\n",
    "print(numpy.concatenate((a, b), axis = 0))"
   ]
  },
  {
   "cell_type": "markdown",
   "metadata": {},
   "source": [
    "Solution for **Zeros and Ones**"
   ]
  },
  {
   "cell_type": "code",
   "execution_count": null,
   "metadata": {},
   "outputs": [],
   "source": [
    "import numpy\n",
    "x=tuple(map(int,input().split()))#in case of other entries with different dimensions,turned into tuple\n",
    "print (numpy.zeros((x),dtype=numpy.int))#dtype is data type, creates a matrix with 0's of given size\n",
    "print (numpy.ones((x),dtype=numpy.int))#creates a matrix with 1s on diagonal line of given size"
   ]
  },
  {
   "cell_type": "markdown",
   "metadata": {},
   "source": [
    "Solution for **Eye and Identity**"
   ]
  },
  {
   "cell_type": "code",
   "execution_count": null,
   "metadata": {},
   "outputs": [],
   "source": [
    "import numpy\n",
    "x,y=map(int,input().split())\n",
    "print(numpy.eye(x,y,k=0))#creates a 0 matrix with size x,y and with first upper diagonal 1\n",
    "#Although I did it correct, the output contains one extra space so it doesn't accept my code and I put the solution here"
   ]
  },
  {
   "cell_type": "markdown",
   "metadata": {},
   "source": [
    "Solution for **Array Mathematics**"
   ]
  },
  {
   "cell_type": "code",
   "execution_count": null,
   "metadata": {},
   "outputs": [],
   "source": [
    "import numpy \n",
    "N,M=list(map(int,input().split()))\n",
    "a=numpy.array([input().split() for i in range(N)],int)#range N;N is 1 for 1 row, 2 for 2\n",
    "b=numpy.array([input().split() for i in range(N)],int)#my first code contained a and b in one for loop, this way it gets the second rows aswell\n",
    "print(a+b)\n",
    "print(a-b)\n",
    "print(a*b)\n",
    "print(a//b)\n",
    "print(a%b)\n",
    "print(a**b)"
   ]
  },
  {
   "cell_type": "markdown",
   "metadata": {},
   "source": [
    "Solution for **Floor, Ceil and Rint**"
   ]
  },
  {
   "cell_type": "code",
   "execution_count": null,
   "metadata": {},
   "outputs": [],
   "source": [
    "import numpy\n",
    "A=list(input().split())\n",
    "A=numpy.array(A,dtype=float)#these 3 commands:floor,ceil,rint rounds the float inputs,namely to prev integer,next integer and nearest integer\n",
    "print(numpy.floor(A))\n",
    "print(numpy.ceil(A))\n",
    "print(numpy.rint(A))\n",
    "#Although I did it correct, the output contains one extra space so it doesn't accept my code and I put the solution here"
   ]
  },
  {
   "cell_type": "markdown",
   "metadata": {},
   "source": [
    "Solution for **Sum and Prod**"
   ]
  },
  {
   "cell_type": "code",
   "execution_count": null,
   "metadata": {},
   "outputs": [],
   "source": [
    "import numpy\n",
    "N,M=map(int,input().split()) \n",
    "a=[]\n",
    "for i in range(N):\n",
    "    a.append(input().split())\n",
    "b=numpy.array(a,int)\n",
    "print((numpy.prod(numpy.sum(b,axis=0))))#prints the product of the sum of 0 axis"
   ]
  },
  {
   "cell_type": "markdown",
   "metadata": {},
   "source": [
    "Solution for **Min and Max**"
   ]
  },
  {
   "cell_type": "code",
   "execution_count": null,
   "metadata": {},
   "outputs": [],
   "source": [
    "import numpy\n",
    "N,M=map(int,input().split())\n",
    "a=[]\n",
    "for i in range(N):\n",
    "    a.append(input().split())\n",
    "b=numpy.array(a,int)\n",
    "c=numpy.min(b,axis=1)#gets min along axis 1\n",
    "print(numpy.max(c))#prints the max of them"
   ]
  },
  {
   "cell_type": "markdown",
   "metadata": {},
   "source": [
    "Solution for **Mean, Var, and Std**"
   ]
  },
  {
   "cell_type": "code",
   "execution_count": null,
   "metadata": {},
   "outputs": [],
   "source": [
    "import numpy\n",
    "N,M=map(int,input().split()) \n",
    "a=[]\n",
    "for i in range(N):\n",
    "    a.append(input().split())\n",
    "b=numpy.array(a,int)\n",
    "print(numpy.mean(b,axis=1))#mean along axis 1\n",
    "print(numpy.var(b,axis=0))#variance along axis 0\n",
    "print(numpy.std(b))#standard deviation\n",
    "#Although I did it correct, the output contains one extra space so it doesn't accept my code and I put the solution here"
   ]
  },
  {
   "cell_type": "markdown",
   "metadata": {},
   "source": [
    "Solution for **Dot and Cross**"
   ]
  },
  {
   "cell_type": "code",
   "execution_count": null,
   "metadata": {},
   "outputs": [],
   "source": [
    "import numpy \n",
    "N=list(input().split())\n",
    "a=numpy.array([input().split() for i in range(int(N[0]))],int)#gets the first matrix from row 1 to row N\n",
    "b=numpy.array([input().split() for i in range(int(N[0]))],int)#gets the following matrix\n",
    "print(numpy.dot(a,b))#multiplication of two matrices is the dot product of those matrices"
   ]
  },
  {
   "cell_type": "markdown",
   "metadata": {},
   "source": [
    "Solution for **Inner and Outer**"
   ]
  },
  {
   "cell_type": "code",
   "execution_count": null,
   "metadata": {},
   "outputs": [],
   "source": [
    "import numpy\n",
    "a=numpy.array([input().split()],int)\n",
    "b=numpy.array([input().split()],int)\n",
    "print(int(numpy.inner(a,b)))#had to convert to int because of output requirements,inner() gets the inner product\n",
    "print(numpy.outer(a,b))#gets the outer product"
   ]
  }
 ],
 "metadata": {
  "kernelspec": {
   "display_name": "Python 3",
   "language": "python",
   "name": "python3"
  },
  "language_info": {
   "codemirror_mode": {
    "name": "ipython",
    "version": 3
   },
   "file_extension": ".py",
   "mimetype": "text/x-python",
   "name": "python",
   "nbconvert_exporter": "python",
   "pygments_lexer": "ipython3",
   "version": "3.7.3"
  }
 },
 "nbformat": 4,
 "nbformat_minor": 2
}
